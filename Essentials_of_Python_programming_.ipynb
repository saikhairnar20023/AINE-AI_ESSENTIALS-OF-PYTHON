{
  "nbformat": 4,
  "nbformat_minor": 0,
  "metadata": {
    "colab": {
      "name": "Essentials of Python programming .ipynb",
      "provenance": [],
      "authorship_tag": "ABX9TyPE9JEGG0qEtar1ywPPZBM3",
      "include_colab_link": true
    },
    "kernelspec": {
      "name": "python3",
      "display_name": "Python 3"
    },
    "language_info": {
      "name": "python"
    }
  },
  "cells": [
    {
      "cell_type": "markdown",
      "metadata": {
        "id": "view-in-github",
        "colab_type": "text"
      },
      "source": [
        "<a href=\"https://colab.research.google.com/github/saikhairnar20023/AINE-AI_ESSENTIALS-OF-PYTHON/blob/main/Essentials_of_Python_programming_.ipynb\" target=\"_parent\"><img src=\"https://colab.research.google.com/assets/colab-badge.svg\" alt=\"Open In Colab\"/></a>"
      ]
    },
    {
      "cell_type": "code",
      "source": [
        "User_action = input(\"Enter A choice (Paper,Rock,Scissors,Lizard,Spock): \")"
      ],
      "metadata": {
        "colab": {
          "base_uri": "https://localhost:8080/"
        },
        "id": "Y5zFT-dXe0Ig",
        "outputId": "28a8533e-61fb-4c84-9215-8b2ad7663367"
      },
      "execution_count": null,
      "outputs": [
        {
          "name": "stdout",
          "output_type": "stream",
          "text": [
            "Enter A choice (Paper,Rock,Scissors,Lizard,Spock): paper\n"
          ]
        }
      ]
    },
    {
      "cell_type": "code",
      "source": [
        "# Here I Import random\n",
        "import random\n",
        "# Here are the Possible action by the User\n",
        "Possible_action = ['Paper','Rock','Scissors','Lizard','Spock']\n",
        "# Here are the Possible action by the Computer\n",
        "Computer_action = random.choice(Possible_action)"
      ],
      "metadata": {
        "id": "0NMxrwEde769"
      },
      "execution_count": null,
      "outputs": []
    },
    {
      "cell_type": "code",
      "source": [
        "print('You chose', {User_action}, 'computer chose', {Computer_action})"
      ],
      "metadata": {
        "colab": {
          "base_uri": "https://localhost:8080/"
        },
        "id": "n6d_60qZe_rN",
        "outputId": "2ebfaef4-0296-44ee-fef3-9df1dfcc47d0"
      },
      "execution_count": null,
      "outputs": [
        {
          "output_type": "stream",
          "name": "stdout",
          "text": [
            "You chose {'paper'} computer chose {'Rock'}\n"
          ]
        }
      ]
    },
    {
      "cell_type": "code",
      "source": [
        "# Here is the condtion for if both the User and Computer actions are same\n",
        "if User_action == Computer_action:\n",
        "    print(f\"Both Player Selected {User_action}. It's a Tie!\")\n",
        "    \n",
        "# Here is the condtion for User action \"Paper\"\n",
        "elif User_action == 'Paper':\n",
        "    if Computer_action == 'Rock':\n",
        "        print(\"Paper covers the rock, You Win!!\")\n",
        "    else:\n",
        "        if Computer_action == \"Scissors\":\n",
        "            print(\"Scissors cuts the paper! You Lose!\")\n",
        "        if Computer_action == 'Lizard':\n",
        "            print('Lizard eats paper! You Lose!')\n",
        "        else:\n",
        "            print(\"Paper disproves Spock! You Win!\")\n",
        "\n",
        "# Here is the condition for User action \"Rock\"            \n",
        "elif User_action == 'Rock':\n",
        "    if Computer_action == 'Scissors':\n",
        "        print(\"Rock smashes Scissors! You Win!\")\n",
        "    else:\n",
        "        print(\"Paper covers the rock! You Lose!\")\n",
        "        if Computer_action == \"Lizard\":\n",
        "            print(\"Rock crushes Lizard! You Win!\")\n",
        "        else:\n",
        "            if Computer_action == \"Spock\":\n",
        "                print(\"Spock veporizes Rock! You Lose!\")\n",
        "                \n",
        "# Here is the condition for User action \"Scissors\"\n",
        "elif User_action == \"Scissors\":\n",
        "    if Computer_action == \"Paper\":\n",
        "        print(\"Scissors cuts Paper! You Win!\")\n",
        "    else:\n",
        "        print(\"Rock smashes Scissors! You Lose!\")\n",
        "        if Computer_action == \"Lizard\":\n",
        "            print(\"Scissors decapitate Lizard! You Win!\")\n",
        "        else:\n",
        "            if Computer_action ==\"Spock\":\n",
        "                print(\"Spock smashes Scissors! You Lose!\")\n",
        "                \n",
        "# Here is the condition for User action \"Lizard\"               \n",
        "elif User_action == \"Lizard\":\n",
        "    if Computer_action == \"Rock\":\n",
        "        print(\"Rock crushes Lizard! You Lose!\")\n",
        "    else:\n",
        "        print(\"Lizard eats Paper! You Win!\")\n",
        "        if Computer_action == \"Scissors\":\n",
        "            print(\"Scissors decapitate Lizard! You Lose!\")\n",
        "        else:\n",
        "            if Computer_action == \"Spock\":\n",
        "                print(\"Lizard poisons spock! You Win\")\n",
        "                \n",
        "# Here is thye condition for User action \"Spock\"\n",
        "elif User_action == \"Spock\":\n",
        "    if Computer_action == \"Rock\":\n",
        "        print(\"Spock vaporizes Rock! You Win!\")\n",
        "    else:\n",
        "        print(\"Paper desproves Spock! You Lose!\")\n",
        "        if Computer_action ==\"Scissors\":\n",
        "            print(\"Spock smashes Scissors! You Win!\")\n",
        "        else:\n",
        "            if Computer_action == \"Lizard\":\n",
        "                print(\"Lizard Poisons Spock! You Lose!\")"
      ],
      "metadata": {
        "id": "F1h50b55fGGW"
      },
      "execution_count": null,
      "outputs": []
    },
    {
      "cell_type": "code",
      "source": [
        "User_action = input(\"Enter A choice (Paper,Rock,Scissors,Lizard,Spock): \")"
      ],
      "metadata": {
        "colab": {
          "base_uri": "https://localhost:8080/"
        },
        "id": "O0lCd60ifR3u",
        "outputId": "0ed1d6c6-8536-404f-b031-41e2b7976a60"
      },
      "execution_count": null,
      "outputs": [
        {
          "name": "stdout",
          "output_type": "stream",
          "text": [
            "Enter A choice (Paper,Rock,Scissors,Lizard,Spock): spock\n"
          ]
        }
      ]
    },
    {
      "cell_type": "code",
      "source": [
        "# Here I import random\n",
        "import random\n",
        "# Here are the possible action for User and Computer\n",
        "Possible_action = ['Paper','Rock','Scissors','Lizard','Spock']\n",
        "Computer_action = random.choice(Possible_action)"
      ],
      "metadata": {
        "id": "8M8XeUfLfdAc"
      },
      "execution_count": null,
      "outputs": []
    },
    {
      "cell_type": "code",
      "source": [
        "print('You chose', {User_action}, 'computer chose', {Computer_action})"
      ],
      "metadata": {
        "colab": {
          "base_uri": "https://localhost:8080/"
        },
        "id": "zLxiM5mbfgbW",
        "outputId": "a3fddbf7-8cb2-4f47-b83b-b43e67fddd3f"
      },
      "execution_count": null,
      "outputs": [
        {
          "output_type": "stream",
          "name": "stdout",
          "text": [
            "You chose {'spock'} computer chose {'Spock'}\n"
          ]
        }
      ]
    },
    {
      "cell_type": "code",
      "source": [
        "while True:\n",
        "    if User_action == Computer_action:\n",
        "        print(f\"Both Player Selected {User_action}. It's a Tie!\")\n",
        "    elif User_action == 'Paper':\n",
        "        if Computer_action == 'Rock':\n",
        "            print(\"Paper covers the rock, You Win!!\")\n",
        "        else:\n",
        "            if Computer_action == \"Scissors\":\n",
        "                print(\"Scissors cuts the paper! You Lose!\")\n",
        "            else:\n",
        "                if Computer_action == 'Lizard':\n",
        "                    print('Lizard eats paper! You Lose!')\n",
        "                else:\n",
        "                    if Computer_action == \"Spock\":\n",
        "                        print(\"Paper disproves Spock! You Win!\")\n",
        "    elif User_action == 'Rock':\n",
        "        if Computer_action == 'Scissors':\n",
        "            print(\"Rock smashes Scissors! You Win!\")\n",
        "        else:\n",
        "            if Computer_action == \"Paper\":\n",
        "                print(\"Paper covers the rock! You Lose!\")\n",
        "            else:\n",
        "                if Computer_action == \"Lizard\":\n",
        "                    print(\"Rock crushes Lizard! You Win!\")\n",
        "                else:\n",
        "                    if Computer_action == \"Spock\":\n",
        "                        print(\"Spock veporizes Rock! You Lose!\")\n",
        "    elif User_action == \"Scissors\":\n",
        "        if Computer_action == \"Paper\":\n",
        "            print(\"Scissors cuts Paper! You Win!\")\n",
        "        else:\n",
        "            if Computer_action == \"Rock\":\n",
        "                print(\"Rock smashes Scissors! You Lose!\")\n",
        "            else:\n",
        "                if Computer_action == \"Lizard\":\n",
        "                    print(\"Scissors decapitate Lizard! You Win!\")\n",
        "                else:\n",
        "                    if Computer_action ==\"Spock\":\n",
        "                        print(\"Spock smashes Scissors! You Lose!\")\n",
        "    elif User_action == \"Lizard\":\n",
        "        if Computer_action == \"Rock\":\n",
        "            print(\"Rock crushes Lizard! You Lose!\")\n",
        "        else:\n",
        "            if Computer_action == \"Paper\":\n",
        "                print(\"Lizard eats Paper! You Win!\")\n",
        "            else:\n",
        "                if Computer_action == \"Scissors\":\n",
        "                    print(\"Scissors decapitate Lizard! You Lose!\")\n",
        "                else:\n",
        "                    if Computer_action == \"Spock\":\n",
        "                        print(\"Lizard poisons spock! You Win\")\n",
        "    elif User_action == \"Spock\":\n",
        "        if Computer_action == \"Rock\":\n",
        "            print(\"Spock vaporizes Rock! You Win!\")\n",
        "        else:\n",
        "            if Computer_action == \"Paper\":\n",
        "                print(\"Paper desproves Spock! You Lose!\")\n",
        "            else:\n",
        "                if Computer_action ==\"Scissors\":\n",
        "                    print(\"Spock smashes Scissors! You Win!\")\n",
        "                else:\n",
        "                    if Computer_action == \"Lizard\":\n",
        "                        print(\"Lizard Poisons Spock! You Lose!\")\n",
        "    play_again = input(\"Want to try again? (y/n): \")\n",
        "    if play_again.lower() != \"y\":\n",
        "        break\n",
        "    else:\n",
        "        User_action = input(\"Enter A choice (Paper,Rock,Scissors,Lizard,Spock): \")\n",
        "        Possible_action = ['Paper','Rock','Scissors','Lizard','Spock']\n",
        "        Computer_action = random.choice(Possible_action)\n",
        "        print('You chose', {User_action}, 'computer chose', {Computer_action})"
      ],
      "metadata": {
        "colab": {
          "base_uri": "https://localhost:8080/"
        },
        "id": "ZRBYyJ4yfj3M",
        "outputId": "7b88325f-a461-4959-985a-863a8bd1fa42"
      },
      "execution_count": null,
      "outputs": [
        {
          "name": "stdout",
          "output_type": "stream",
          "text": [
            "Want to try again? (y/n): y\n",
            "Enter A choice (Paper,Rock,Scissors,Lizard,Spock): lizard\n",
            "You chose {'lizard'} computer chose {'Spock'}\n",
            "Want to try again? (y/n): y\n",
            "Enter A choice (Paper,Rock,Scissors,Lizard,Spock): Scissors\n",
            "You chose {'Scissors'} computer chose {'Paper'}\n",
            "Scissors cuts Paper! You Win!\n",
            "Want to try again? (y/n): n\n"
          ]
        }
      ]
    }
  ]
}